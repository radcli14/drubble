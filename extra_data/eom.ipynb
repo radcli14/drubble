{
 "cells": [
  {
   "attachments": {
    "diagram.png": {
     "image/png": "[encoded data removed]"
    }
   },
   "cell_type": "markdown",
   "metadata": {},
   "source": [
    "![diagram.png](attachment:diagram.png)"
   ]
  },
  {
   "cell_type": "markdown",
   "metadata": {},
   "source": [
    "First we import the NumPy and SymPy mechanics modules in python. NumPy provides an extensive set of numerical analysis funtions, while SymPy is a symbolic coding environment with the mechanics module standardizing various kinematic transformations and and equation of motion generation. The IPython display modules are imported to generate typeset equations suitable for document publication."
   ]
  },
  {
   "cell_type": "code",
   "execution_count": 74,
   "metadata": {},
   "outputs": [],
   "source": [
    "import numpy as np\n",
    "from sympy import *\n",
    "from sympy.physics.mechanics import *\n",
    "from IPython.display import display, Latex\n",
    "init_printing(use_latex='mathjax')"
   ]
  },
  {
   "cell_type": "markdown",
   "metadata": {},
   "source": [
    "To begin the dynamics model formulation, we first define the generalized coordinates. The player is defined as a point mass located at point $p$, with positions $(x, y)$ defined relative to the origin in the horizontal and vertical directions, respectively. The stool is also defined as a point mass located at point $s$, which is translated and rotated relative to the player with a transformation (to be described later) requiring an arm extension length $l$ and stool tilt angle $θ$. These four variables form the generalized coordinate vector $\\boldsymbol{q}$. \n",
    "\n",
    "The SymPy Mechanics `dynamicsymbols` function is used to define these as symbolic variables that are time-varying, and therefore candidate degrees-of-freedom (DOFs). Notably, the left hand side of the equation are the variables to be used in the source code, where `th` is used in place of $θ$. When typing code that references the tilt angle, `th` will be used, whereas when the `display` function is called to typeset the equation, the more visually appealing $θ$ is used, as seen below. Also note that the display adds the $(t)$ to each variable, indicating it is time-varying. The chained assignment operators (i.e. `a = b = c`) are used such that in the source code the variables `generalized_coords` and `q` can be used interchangeably."
   ]
  },
  {
   "cell_type": "code",
   "execution_count": 75,
   "metadata": {},
   "outputs": [
    {
     "data": {
      "text/latex": [
       "$\\mathbf{q} = $"
      ],
      "text/plain": [
       "<IPython.core.display.Latex object>"
      ]
     },
     "metadata": {},
     "output_type": "display_data"
    },
    {
     "data": {
      "text/latex": [
       "$\\displaystyle \\left[\\begin{matrix}x{\\left(t \\right)}\\\\y{\\left(t \\right)}\\\\l{\\left(t \\right)}\\\\θ{\\left(t \\right)}\\end{matrix}\\right]$"
      ],
      "text/plain": [
       "⎡x(t)⎤\n",
       "⎢    ⎥\n",
       "⎢y(t)⎥\n",
       "⎢    ⎥\n",
       "⎢l(t)⎥\n",
       "⎢    ⎥\n",
       "⎣θ(t)⎦"
      ]
     },
     "metadata": {},
     "output_type": "display_data"
    }
   ],
   "source": [
    "x, y, l, th = dynamicsymbols('x y l θ')\n",
    "generalized_coords = q = Matrix([x, y, l, th])\n",
    "display(Latex('$\\mathbf{q} = $'), q)"
   ]
  },
  {
   "cell_type": "markdown",
   "metadata": {},
   "source": [
    "We will also need the derivatives of these coordinates with respect to time, which are obtained by calling the `dynamicsymbols` function with the second argument `1` indicating the first derivative."
   ]
  },
  {
   "cell_type": "code",
   "execution_count": 76,
   "metadata": {},
   "outputs": [
    {
     "data": {
      "text/latex": [
       "$\\dot{\\mathbf{q}} = $"
      ],
      "text/plain": [
       "<IPython.core.display.Latex object>"
      ]
     },
     "metadata": {},
     "output_type": "display_data"
    },
    {
     "data": {
      "text/latex": [
       "$\\displaystyle \\left[\\begin{matrix}\\frac{d}{d t} x{\\left(t \\right)}\\\\\\frac{d}{d t} y{\\left(t \\right)}\\\\\\frac{d}{d t} l{\\left(t \\right)}\\\\\\frac{d}{d t} θ{\\left(t \\right)}\\end{matrix}\\right]$"
      ],
      "text/plain": [
       "⎡d       ⎤\n",
       "⎢──(x(t))⎥\n",
       "⎢dt      ⎥\n",
       "⎢        ⎥\n",
       "⎢d       ⎥\n",
       "⎢──(y(t))⎥\n",
       "⎢dt      ⎥\n",
       "⎢        ⎥\n",
       "⎢d       ⎥\n",
       "⎢──(l(t))⎥\n",
       "⎢dt      ⎥\n",
       "⎢        ⎥\n",
       "⎢d       ⎥\n",
       "⎢──(θ(t))⎥\n",
       "⎣dt      ⎦"
      ]
     },
     "metadata": {},
     "output_type": "display_data"
    },
    {
     "data": {
      "text/latex": [
       "$\\ddot{\\mathbf{q}} = $"
      ],
      "text/plain": [
       "<IPython.core.display.Latex object>"
      ]
     },
     "metadata": {},
     "output_type": "display_data"
    },
    {
     "data": {
      "text/latex": [
       "$\\displaystyle \\left[\\begin{matrix}\\frac{d^{2}}{d t^{2}} x{\\left(t \\right)}\\\\\\frac{d^{2}}{d t^{2}} y{\\left(t \\right)}\\\\\\frac{d^{2}}{d t^{2}} l{\\left(t \\right)}\\\\\\frac{d^{2}}{d t^{2}} θ{\\left(t \\right)}\\end{matrix}\\right]$"
      ],
      "text/plain": [
       "⎡  2      ⎤\n",
       "⎢ d       ⎥\n",
       "⎢───(x(t))⎥\n",
       "⎢  2      ⎥\n",
       "⎢dt       ⎥\n",
       "⎢         ⎥\n",
       "⎢  2      ⎥\n",
       "⎢ d       ⎥\n",
       "⎢───(y(t))⎥\n",
       "⎢  2      ⎥\n",
       "⎢dt       ⎥\n",
       "⎢         ⎥\n",
       "⎢  2      ⎥\n",
       "⎢ d       ⎥\n",
       "⎢───(l(t))⎥\n",
       "⎢  2      ⎥\n",
       "⎢dt       ⎥\n",
       "⎢         ⎥\n",
       "⎢  2      ⎥\n",
       "⎢ d       ⎥\n",
       "⎢───(θ(t))⎥\n",
       "⎢  2      ⎥\n",
       "⎣dt       ⎦"
      ]
     },
     "metadata": {},
     "output_type": "display_data"
    }
   ],
   "source": [
    "dxdt, dydt, dldt, dthdt = dynamicsymbols('x y l θ', 1)\n",
    "ddt_generalized_coords = dqdt = Matrix([dxdt, dydt, dldt, dthdt])\n",
    "d2xdt2, d2ydt2, d2ldt2, d2thdt2 = dynamicsymbols('x y l θ', 2)\n",
    "d2dt2_generalized_coords = d2qdt2 = Matrix([d2xdt2, d2ydt2, d2ldt2, d2thdt2])\n",
    "display(Latex('$\\dot{\\mathbf{q}} = $'), dqdt)\n",
    "display(Latex('$\\ddot{\\mathbf{q}} = $'), d2qdt2)"
   ]
  },
  {
   "cell_type": "markdown",
   "metadata": {},
   "source": [
    "Initial values for the generalized coordinates are represented by a subscript $0$, where $\\boldsymbol{q}_0 = (x_0, y_0, l_0, θ_0)^T$. In SymPy, these are defined using a call to the `symbols` function, which declares them as constants. As before, a slight variation is used for the variable representation in the source code versus in typesetting, where for the latter the underscore is used to ensure that these are typeset as a subscript."
   ]
  },
  {
   "cell_type": "code",
   "execution_count": 77,
   "metadata": {},
   "outputs": [
    {
     "data": {
      "text/latex": [
       "$\\mathbf{q}_0 = $"
      ],
      "text/plain": [
       "<IPython.core.display.Latex object>"
      ]
     },
     "metadata": {},
     "output_type": "display_data"
    },
    {
     "data": {
      "text/latex": [
       "$\\displaystyle \\left[\\begin{matrix}x_{0}\\\\y_{0}\\\\l_{0}\\\\θ_{0}\\end{matrix}\\right]$"
      ],
      "text/plain": [
       "⎡x₀⎤\n",
       "⎢  ⎥\n",
       "⎢y₀⎥\n",
       "⎢  ⎥\n",
       "⎢l₀⎥\n",
       "⎢  ⎥\n",
       "⎣θ₀⎦"
      ]
     },
     "metadata": {},
     "output_type": "display_data"
    }
   ],
   "source": [
    "x0, y0, l0, th0 = symbols('x_0 y_0 l_0 θ_0')\n",
    "q0 = Matrix([x0, y0, l0, th0])\n",
    "display(Latex('$\\mathbf{q}_0 = $'), q0)"
   ]
  },
  {
   "cell_type": "markdown",
   "metadata": {},
   "source": [
    "To facilitate equation of motion generation using Kane's method, we will also define a set of generalized speeds. In this case, we will use substition variables $u = \\frac{\\partial x}{\\partial t}$, $v = \\frac{\\partial y}{\\partial t}$, $w = \\frac{\\partial l}{\\partial t}$, and $ω = \\frac{\\partial θ}{\\partial t}$."
   ]
  },
  {
   "cell_type": "code",
   "execution_count": 78,
   "metadata": {},
   "outputs": [
    {
     "data": {
      "text/latex": [
       "$\\mathbf{s} = $"
      ],
      "text/plain": [
       "<IPython.core.display.Latex object>"
      ]
     },
     "metadata": {},
     "output_type": "display_data"
    },
    {
     "data": {
      "text/latex": [
       "$\\displaystyle \\left[\\begin{matrix}u{\\left(t \\right)}\\\\v{\\left(t \\right)}\\\\w{\\left(t \\right)}\\\\ω{\\left(t \\right)}\\end{matrix}\\right]$"
      ],
      "text/plain": [
       "⎡u(t)⎤\n",
       "⎢    ⎥\n",
       "⎢v(t)⎥\n",
       "⎢    ⎥\n",
       "⎢w(t)⎥\n",
       "⎢    ⎥\n",
       "⎣ω(t)⎦"
      ]
     },
     "metadata": {},
     "output_type": "display_data"
    }
   ],
   "source": [
    "u, v, w, omeg = dynamicsymbols('u v w ω')\n",
    "generalized_speeds = s = Matrix([u, v, w, omeg])\n",
    "display(Latex('$\\mathbf{s} = $'), generalized_speeds)"
   ]
  },
  {
   "cell_type": "markdown",
   "metadata": {},
   "source": [
    "A kinematic equation will be used in Kane's method to define the equality $\\mathbf{s} = \\dot{\\mathbf{q}}$, equivalently $\\mathbf{s} - \\dot{\\mathbf{q}} = \\mathbf{0}$. The latter convention is commonly used by the SymPy solvers, where a matrix representing a system of equations will be assumed to be in equilibrium, or in other words equal to a matrix of zeros with the same dimension."
   ]
  },
  {
   "cell_type": "code",
   "execution_count": 79,
   "metadata": {},
   "outputs": [
    {
     "data": {
      "text/latex": [
       "$\\displaystyle \\left[\\begin{matrix}u{\\left(t \\right)} - \\frac{d}{d t} x{\\left(t \\right)}\\\\v{\\left(t \\right)} - \\frac{d}{d t} y{\\left(t \\right)}\\\\w{\\left(t \\right)} - \\frac{d}{d t} l{\\left(t \\right)}\\\\ω{\\left(t \\right)} - \\frac{d}{d t} θ{\\left(t \\right)}\\end{matrix}\\right]$"
      ],
      "text/plain": [
       "⎡       d       ⎤\n",
       "⎢u(t) - ──(x(t))⎥\n",
       "⎢       dt      ⎥\n",
       "⎢               ⎥\n",
       "⎢       d       ⎥\n",
       "⎢v(t) - ──(y(t))⎥\n",
       "⎢       dt      ⎥\n",
       "⎢               ⎥\n",
       "⎢       d       ⎥\n",
       "⎢w(t) - ──(l(t))⎥\n",
       "⎢       dt      ⎥\n",
       "⎢               ⎥\n",
       "⎢       d       ⎥\n",
       "⎢ω(t) - ──(θ(t))⎥\n",
       "⎣       dt      ⎦"
      ]
     },
     "metadata": {},
     "output_type": "display_data"
    }
   ],
   "source": [
    "kinematic_equation = s - dqdt\n",
    "display(kinematic_equation)"
   ]
  },
  {
   "cell_type": "markdown",
   "metadata": {},
   "source": [
    "Next we define the constants, including masses $m_p$ and $m_s$ of the player and stool, an offset distance $d$ between the player center of mass and the point about which the stool rotates, the gravitational constant $'g'$ (represented by `grav` in source code). "
   ]
  },
  {
   "cell_type": "code",
   "execution_count": 80,
   "metadata": {},
   "outputs": [],
   "source": [
    "mp, ms, d, grav, t = symbols('m_p m_s d g t')"
   ]
  },
  {
   "cell_type": "markdown",
   "metadata": {},
   "source": [
    "The spring coefficients $K_y$, $K_l$, and $K_θ$ introduce generalized forces into the system proportional to the subscripted coordinate minus its initial value. "
   ]
  },
  {
   "cell_type": "code",
   "execution_count": 81,
   "metadata": {},
   "outputs": [],
   "source": [
    "Ky, Kl, Kt = symbols('K_y K_l K_θ')\n",
    "# generalized_spring_forces = QK =  Matrix([0, Ky * (y0 - y), Kl * (l0 - l), Kt * (th0 - th)])\n",
    "# display(generalized_spring_forces)"
   ]
  },
  {
   "cell_type": "markdown",
   "metadata": {},
   "source": [
    "Likewise, the damping constants $C_x$, $C_y$, $C_l$, and $C_θ$ induce generalized forces proportional to derivatives with respect to time of the generalized coordinates."
   ]
  },
  {
   "cell_type": "code",
   "execution_count": 82,
   "metadata": {},
   "outputs": [
    {
     "data": {
      "text/latex": [
       "$\\mathbf{Q}_{damping} = $"
      ],
      "text/plain": [
       "<IPython.core.display.Latex object>"
      ]
     },
     "metadata": {},
     "output_type": "display_data"
    },
    {
     "data": {
      "text/latex": [
       "$\\displaystyle \\left[\\begin{matrix}- C_{x} \\frac{d}{d t} x{\\left(t \\right)}\\\\- C_{y} \\frac{d}{d t} y{\\left(t \\right)}\\\\- C_{l} \\frac{d}{d t} l{\\left(t \\right)}\\\\- C_{θ} \\frac{d}{d t} θ{\\left(t \\right)}\\end{matrix}\\right]$"
      ],
      "text/plain": [
       "⎡    d        ⎤\n",
       "⎢-Cₓ⋅──(x(t)) ⎥\n",
       "⎢    dt       ⎥\n",
       "⎢             ⎥\n",
       "⎢     d       ⎥\n",
       "⎢-C_y⋅──(y(t))⎥\n",
       "⎢     dt      ⎥\n",
       "⎢             ⎥\n",
       "⎢    d        ⎥\n",
       "⎢-Cₗ⋅──(l(t)) ⎥\n",
       "⎢    dt       ⎥\n",
       "⎢             ⎥\n",
       "⎢     d       ⎥\n",
       "⎢-C_θ⋅──(θ(t))⎥\n",
       "⎣     dt      ⎦"
      ]
     },
     "metadata": {},
     "output_type": "display_data"
    }
   ],
   "source": [
    "Cx, Cy, Cl, Cth = symbols('C_x C_y C_l C_θ')\n",
    "generalized_damping_forces = Qdamping = Matrix([- Cx * dxdt, - Cy * dydt, - Cl * dldt, - Cth * dthdt])\n",
    "display(Latex('$\\mathbf{Q}_{damping} = $'), generalized_damping_forces)"
   ]
  },
  {
   "cell_type": "markdown",
   "metadata": {},
   "source": [
    "The generalized input forces $Q_x$, $Q_y$, $Q_l$, and $Q_θ$ represent the control variables, from either player inputs or the computer control logic algorithm."
   ]
  },
  {
   "cell_type": "code",
   "execution_count": 83,
   "metadata": {},
   "outputs": [
    {
     "data": {
      "text/latex": [
       "$\\mathbf{Q}_{input} = $"
      ],
      "text/plain": [
       "<IPython.core.display.Latex object>"
      ]
     },
     "metadata": {},
     "output_type": "display_data"
    },
    {
     "data": {
      "text/plain": [
       "<sympy.assumptions.ask.AssumptionKeys at 0x11f439c88>"
      ]
     },
     "metadata": {},
     "output_type": "display_data"
    }
   ],
   "source": [
    "Qx, Qy, Ql, Qth = symbols('Q_x Q_y Q_l Q_θ')\n",
    "generalized_input_forces = Qinput = Matrix([Qx, Qy, Ql, Qth])\n",
    "display(Latex('$\\mathbf{Q}_{input} = $'), Q)"
   ]
  },
  {
   "cell_type": "markdown",
   "metadata": {},
   "source": [
    "The inertial reference frame is designated as `R`. The default convention in SymPy Mechanics is to represent the reference frame `R` using the unit vectors $\\mathbf{\\hat{r}}_x$, $\\mathbf{\\hat{r}}_y$, and $\\mathbf{\\hat{r}}_z$, however, these default symbols are replaced with unit vectors $\\mathbf{\\hat{i}}$, $\\mathbf{\\hat{j}}$, and $\\mathbf{\\hat{k}}$ for typesetting purposes, where $\\mathbf{\\hat{i}}$ is horizontal to the right side of the screen, $\\mathbf{\\hat{j}}$ is vertical and upward, and $\\mathbf{\\hat{k}}$ is out of the page. It is understood these are spatially fixed such that  $\\partial\\mathbf{\\hat{i}} / \\partial t = \\partial\\mathbf{\\hat{j}} / \\partial t = \\partial\\mathbf{\\hat{k}} / \\partial t = 0$. The stool frame is designated as `E`, with the default unit vectors provided by SymPy Mechanics of $\\mathbf{\\hat{e}}_x$, $\\mathbf{\\hat{e}}_y$, and $\\mathbf{\\hat{e}}_z$, which are oriented relative to the reference frame `R` by a rotation of $\\theta$ about the $\\mathbf{\\hat{k}}$ axis, where $\\mathbf{\\hat{k}}$ is accessed in the source code as `R.z`. The direction cosine matrix (DCM) that transforms from the `R` to the `E` frame is given by $\\mathbf{R}_e$."
   ]
  },
  {
   "cell_type": "code",
   "execution_count": 84,
   "metadata": {},
   "outputs": [
    {
     "data": {
      "text/latex": [
       "$\\mathbf{R}_e =$"
      ],
      "text/plain": [
       "<IPython.core.display.Latex object>"
      ]
     },
     "metadata": {},
     "output_type": "display_data"
    },
    {
     "data": {
      "text/latex": [
       "$\\displaystyle \\left[\\begin{matrix}\\cos{\\left(θ{\\left(t \\right)} \\right)} & \\sin{\\left(θ{\\left(t \\right)} \\right)} & 0\\\\- \\sin{\\left(θ{\\left(t \\right)} \\right)} & \\cos{\\left(θ{\\left(t \\right)} \\right)} & 0\\\\0 & 0 & 1\\end{matrix}\\right]$"
      ],
      "text/plain": [
       "⎡cos(θ(t))   sin(θ(t))  0⎤\n",
       "⎢                        ⎥\n",
       "⎢-sin(θ(t))  cos(θ(t))  0⎥\n",
       "⎢                        ⎥\n",
       "⎣    0           0      1⎦"
      ]
     },
     "metadata": {},
     "output_type": "display_data"
    }
   ],
   "source": [
    "R = ReferenceFrame('R')\n",
    "R.pretty_vecs = ['i', 'j', 'k']\n",
    "R.latex_vecs = ['\\\\mathbf{\\\\hat{i}}', '\\\\mathbf{\\\\hat{j}}', '\\\\mathbf{\\\\hat{k}}']\n",
    "E = ReferenceFrame('E')\n",
    "E.orient(R, 'Axis', [th, R.z])\n",
    "Re = E.dcm(R)\n",
    "display(Latex('$\\mathbf{R}_e =$'), Re)"
   ]
  },
  {
   "cell_type": "markdown",
   "metadata": {},
   "source": [
    "The origin is defined as a `Point` designated `O`, and its velocity is set to zero using the `.set_vel()` method. The ensuing points of interest will be defined relative to the origin."
   ]
  },
  {
   "cell_type": "code",
   "execution_count": 85,
   "metadata": {},
   "outputs": [],
   "source": [
    "origin = Point('O')\n",
    "origin.set_vel(R, 0)"
   ]
  },
  {
   "cell_type": "markdown",
   "metadata": {},
   "source": [
    "The player's center of mass is located at the point `p`, which has the position vector $\\mathbf{r}_p$ given by the generalized coordinates $x$ and $y$, measured relative to the origin in the `R` frame. The `.set_pos()` method is used to define this position, with the source code `R.x` and `R.y` to access the unit vectors $\\mathbf{\\hat{i}}$ and $\\mathbf{\\hat{j}}$, respectively."
   ]
  },
  {
   "cell_type": "code",
   "execution_count": 86,
   "metadata": {},
   "outputs": [
    {
     "data": {
      "text/latex": [
       "$\\mathbf{r}_p = $"
      ],
      "text/plain": [
       "<IPython.core.display.Latex object>"
      ]
     },
     "metadata": {},
     "output_type": "display_data"
    },
    {
     "data": {
      "text/latex": [
       "$\\displaystyle x\\mathbf{\\hat{i}} + y\\mathbf{\\hat{j}}$"
      ],
      "text/plain": [
       "x(t) i + y(t) j"
      ]
     },
     "metadata": {},
     "output_type": "display_data"
    }
   ],
   "source": [
    "player = Point('p')\n",
    "player.set_pos(origin, x * R.x + y * R.y)\n",
    "rp = player.pos_from(origin)\n",
    "display(Latex('$\\mathbf{r}_p = $'), rp)"
   ]
  },
  {
   "cell_type": "markdown",
   "metadata": {},
   "source": [
    "The stool center of mass is located at the point `s`, which has the position vector $\\mathbf{r}_s$, which is offset vertically from `p` by a constant distance $d$ in the $\\partial\\mathbf{\\hat{j}}$ direction, and by $l(t)$ in the $\\mathbf{\\hat{e}}_y$ direction (accessed as `E.y` in the source code)."
   ]
  },
  {
   "cell_type": "code",
   "execution_count": 87,
   "metadata": {},
   "outputs": [
    {
     "data": {
      "text/latex": [
       "$\\mathbf{r}_s = $"
      ],
      "text/plain": [
       "<IPython.core.display.Latex object>"
      ]
     },
     "metadata": {},
     "output_type": "display_data"
    },
    {
     "data": {
      "text/latex": [
       "$\\displaystyle x\\mathbf{\\hat{i}} + (d + y)\\mathbf{\\hat{j}} + l\\mathbf{\\hat{e}_y}$"
      ],
      "text/plain": [
       "x(t) i + (d + y(t)) j + l(t) e_y"
      ]
     },
     "metadata": {},
     "output_type": "display_data"
    },
    {
     "data": {
      "text/latex": [
       "$ = $"
      ],
      "text/plain": [
       "<IPython.core.display.Latex object>"
      ]
     },
     "metadata": {},
     "output_type": "display_data"
    },
    {
     "data": {
      "text/latex": [
       "$\\displaystyle (- l \\operatorname{sin}\\left(θ\\right) + x)\\mathbf{\\hat{i}} + (d + l \\operatorname{cos}\\left(θ\\right) + y)\\mathbf{\\hat{j}}$"
      ],
      "text/plain": [
       "(-l(t)⋅sin(θ(t)) + x(t)) i + (d + l(t)⋅cos(θ(t)) + y(t)) j"
      ]
     },
     "metadata": {},
     "output_type": "display_data"
    }
   ],
   "source": [
    "stool = Point('s')\n",
    "stool.set_pos(player, d * R.y + l * E.y)\n",
    "rs = stool.pos_from(origin)\n",
    "display(Latex('$\\mathbf{r}_s = $'), rs, Latex('$ = $'), rs.express(R))"
   ]
  },
  {
   "cell_type": "markdown",
   "metadata": {},
   "source": [
    "The velocity of the point `p`, given by $\\mathbf{v}_p$, is calculated by taking its time derivative evaluated in the frame `R`."
   ]
  },
  {
   "cell_type": "code",
   "execution_count": 88,
   "metadata": {},
   "outputs": [
    {
     "data": {
      "text/latex": [
       "$\\mathbf{v}_p =$"
      ],
      "text/plain": [
       "<IPython.core.display.Latex object>"
      ]
     },
     "metadata": {},
     "output_type": "display_data"
    },
    {
     "data": {
      "text/latex": [
       "$\\displaystyle \\dot{x}\\mathbf{\\hat{i}} + \\dot{y}\\mathbf{\\hat{j}}$"
      ],
      "text/plain": [
       "d            d\n",
       "──(x(t)) i + ──(y(t)) j\n",
       "dt           dt"
      ]
     },
     "metadata": {},
     "output_type": "display_data"
    }
   ],
   "source": [
    "vp = player.pos_from(origin).dt(R) \n",
    "display(Latex('$\\mathbf{v}_p =$'), vp)"
   ]
  },
  {
   "cell_type": "markdown",
   "metadata": {},
   "source": [
    "Similarly, the velocity of the point `s`, given by $\\mathbf{v}_s$ is calculated in the same way. By default, the velocity of `s` relative to `p` is given in the rotated stool frame, with a tangential term $l\\dot{\\theta}\\hat{\\mathbf{e}}_x$ and radial term $\\dot{l}\\hat{\\mathbf{e}}_y$. The `.express()` method is used to give the equivalent velocity in the inertial $\\hat{\\mathbf{i}}$ and $\\hat{\\mathbf{j}}$ coordinates."
   ]
  },
  {
   "cell_type": "code",
   "execution_count": 89,
   "metadata": {},
   "outputs": [
    {
     "data": {
      "text/latex": [
       "$\\mathbf{v}_s =$"
      ],
      "text/plain": [
       "<IPython.core.display.Latex object>"
      ]
     },
     "metadata": {},
     "output_type": "display_data"
    },
    {
     "data": {
      "text/latex": [
       "$\\displaystyle \\dot{x}\\mathbf{\\hat{i}} + \\dot{y}\\mathbf{\\hat{j}} -  l \\dot{θ}\\mathbf{\\hat{e}_x} + \\dot{l}\\mathbf{\\hat{e}_y}$"
      ],
      "text/plain": [
       "d            d                  d              d\n",
       "──(x(t)) i + ──(y(t)) j + -l(t)⋅──(θ(t)) e_x + ──(l(t)) e_y\n",
       "dt           dt                 dt             dt"
      ]
     },
     "metadata": {},
     "output_type": "display_data"
    },
    {
     "data": {
      "text/latex": [
       "$ = $"
      ],
      "text/plain": [
       "<IPython.core.display.Latex object>"
      ]
     },
     "metadata": {},
     "output_type": "display_data"
    },
    {
     "data": {
      "text/latex": [
       "$\\displaystyle (- l \\operatorname{cos}\\left(θ\\right) \\dot{θ} - \\operatorname{sin}\\left(θ\\right) \\dot{l} + \\dot{x})\\mathbf{\\hat{i}} + (- l \\operatorname{sin}\\left(θ\\right) \\dot{θ} + \\operatorname{cos}\\left(θ\\right) \\dot{l} + \\dot{y})\\mathbf{\\hat{j}}$"
      ],
      "text/plain": [
       "⎛                 d                    d          d       ⎞     ⎛\n",
       "⎜- l(t)⋅cos(θ(t))⋅──(θ(t)) - sin(θ(t))⋅──(l(t)) + ──(x(t))⎟ i + ⎜- l(t)⋅sin(θ(\n",
       "⎝                 dt                   dt         dt      ⎠     ⎝\n",
       "\n",
       "    d                    d          d       ⎞\n",
       "t))⋅──(θ(t)) + cos(θ(t))⋅──(l(t)) + ──(y(t))⎟ j\n",
       "    dt                   dt         dt      ⎠"
      ]
     },
     "metadata": {},
     "output_type": "display_data"
    }
   ],
   "source": [
    "vs = stool.pos_from(origin).dt(R) \n",
    "display(Latex('$\\mathbf{v}_s =$'), vs, Latex('$ = $'), vs.express(R))"
   ]
  },
  {
   "cell_type": "markdown",
   "metadata": {},
   "source": [
    "The kinetic energy, $T = \\frac{1}{2} m_p \\mathbf{v}_p \\cdot \\mathbf{v}_p + \\frac{1}{2} m_s \\mathbf{v}_s \\cdot \\mathbf{v}_s$, is calculated where $m_p$ and $m_s$ are the point masses assigned to the player and stool, and $(\\,\\cdot\\,)$ represents the dot product."
   ]
  },
  {
   "cell_type": "code",
   "execution_count": 90,
   "metadata": {},
   "outputs": [
    {
     "data": {
      "text/latex": [
       "$T = $"
      ],
      "text/plain": [
       "<IPython.core.display.Latex object>"
      ]
     },
     "metadata": {},
     "output_type": "display_data"
    },
    {
     "data": {
      "text/latex": [
       "$\\displaystyle 0.5 m_{p} \\left(\\frac{d}{d t} x{\\left(t \\right)}\\right)^{2} + 0.5 m_{p} \\left(\\frac{d}{d t} y{\\left(t \\right)}\\right)^{2} + 0.5 m_{s} l^{2}{\\left(t \\right)} \\left(\\frac{d}{d t} θ{\\left(t \\right)}\\right)^{2} - 1.0 m_{s} l{\\left(t \\right)} \\sin{\\left(θ{\\left(t \\right)} \\right)} \\frac{d}{d t} y{\\left(t \\right)} \\frac{d}{d t} θ{\\left(t \\right)} - 1.0 m_{s} l{\\left(t \\right)} \\cos{\\left(θ{\\left(t \\right)} \\right)} \\frac{d}{d t} x{\\left(t \\right)} \\frac{d}{d t} θ{\\left(t \\right)} - 1.0 m_{s} \\sin{\\left(θ{\\left(t \\right)} \\right)} \\frac{d}{d t} l{\\left(t \\right)} \\frac{d}{d t} x{\\left(t \\right)} + 1.0 m_{s} \\cos{\\left(θ{\\left(t \\right)} \\right)} \\frac{d}{d t} l{\\left(t \\right)} \\frac{d}{d t} y{\\left(t \\right)} + 0.5 m_{s} \\left(\\frac{d}{d t} l{\\left(t \\right)}\\right)^{2} + 0.5 m_{s} \\left(\\frac{d}{d t} x{\\left(t \\right)}\\right)^{2} + 0.5 m_{s} \\left(\\frac{d}{d t} y{\\left(t \\right)}\\right)^{2}$"
      ],
      "text/plain": [
       "                 2                    2                          2            \n",
       "       ⎛d       ⎞           ⎛d       ⎞            2    ⎛d       ⎞             \n",
       "0.5⋅mₚ⋅⎜──(x(t))⎟  + 0.5⋅mₚ⋅⎜──(y(t))⎟  + 0.5⋅mₛ⋅l (t)⋅⎜──(θ(t))⎟  - 1.0⋅mₛ⋅l(\n",
       "       ⎝dt      ⎠           ⎝dt      ⎠                 ⎝dt      ⎠             \n",
       "\n",
       "                                                                              \n",
       "             d        d                                d        d             \n",
       "t)⋅sin(θ(t))⋅──(y(t))⋅──(θ(t)) - 1.0⋅mₛ⋅l(t)⋅cos(θ(t))⋅──(x(t))⋅──(θ(t)) - 1.0\n",
       "             dt       dt                               dt       dt            \n",
       "\n",
       "                                                                              \n",
       "              d        d                           d        d                 \n",
       "⋅mₛ⋅sin(θ(t))⋅──(l(t))⋅──(x(t)) + 1.0⋅mₛ⋅cos(θ(t))⋅──(l(t))⋅──(y(t)) + 0.5⋅mₛ⋅\n",
       "              dt       dt                          dt       dt                \n",
       "\n",
       "          2                    2                    2\n",
       "⎛d       ⎞           ⎛d       ⎞           ⎛d       ⎞ \n",
       "⎜──(l(t))⎟  + 0.5⋅mₛ⋅⎜──(x(t))⎟  + 0.5⋅mₛ⋅⎜──(y(t))⎟ \n",
       "⎝dt      ⎠           ⎝dt      ⎠           ⎝dt      ⎠ "
      ]
     },
     "metadata": {},
     "output_type": "display_data"
    }
   ],
   "source": [
    "T = simplify(0.5 * mp * dot(vp, vp) + 0.5 * ms * dot(vs, vs))\n",
    "display(Latex('$T = $'), T)"
   ]
  },
  {
   "cell_type": "markdown",
   "metadata": {},
   "source": [
    "The potential energy $V$ is the sum of the gravitational potential $(m_p \\mathbf{r}_p + m_s \\mathbf{r_s}) \\cdot g \\hat{\\mathbf{j}}$ plus spring potential $K_y (y - y_0)^2$, $K_l (l - l_0)^2$, and $K_\\theta \\theta^2$. "
   ]
  },
  {
   "cell_type": "code",
   "execution_count": 91,
   "metadata": {},
   "outputs": [
    {
     "data": {
      "text/latex": [
       "$V = $"
      ],
      "text/plain": [
       "<IPython.core.display.Latex object>"
      ]
     },
     "metadata": {},
     "output_type": "display_data"
    },
    {
     "data": {
      "text/latex": [
       "$\\displaystyle 0.5 K_{l} \\left(l_{0} - l{\\left(t \\right)}\\right)^{2} + 0.5 K_{y} \\left(y_{0} - y{\\left(t \\right)}\\right)^{2} + 0.5 K_{θ} θ^{2}{\\left(t \\right)} + g m_{s} l{\\left(t \\right)} \\cos{\\left(θ{\\left(t \\right)} \\right)} + g \\left(m_{p} y{\\left(t \\right)} + m_{s} \\left(d + y{\\left(t \\right)}\\right)\\right)$"
      ],
      "text/plain": [
       "                  2                      2            2                       \n",
       "0.5⋅Kₗ⋅(l₀ - l(t))  + 0.5⋅K_y⋅(y₀ - y(t))  + 0.5⋅K_θ⋅θ (t) + g⋅mₛ⋅l(t)⋅cos(θ(t\n",
       "\n",
       "                                \n",
       ")) + g⋅(mₚ⋅y(t) + mₛ⋅(d + y(t)))"
      ]
     },
     "metadata": {},
     "output_type": "display_data"
    }
   ],
   "source": [
    "V = dot(mp * rp + ms * rs, grav * R.y) + 1/2 * Ky * (y - y0)**2 + 1/2 * Kl * (l - l0)**2 + 1/2 * Kt * th**2\n",
    "V = simplify(V)\n",
    "display(Latex('$V = $'), V)"
   ]
  },
  {
   "cell_type": "markdown",
   "metadata": {},
   "source": [
    "The Lagrangian $L = T - V$"
   ]
  },
  {
   "cell_type": "code",
   "execution_count": 92,
   "metadata": {},
   "outputs": [
    {
     "data": {
      "text/latex": [
       "$L = T - V = $"
      ],
      "text/plain": [
       "<IPython.core.display.Latex object>"
      ]
     },
     "metadata": {},
     "output_type": "display_data"
    },
    {
     "data": {
      "text/latex": [
       "$\\displaystyle - 0.5 K_{l} \\left(l_{0} - l{\\left(t \\right)}\\right)^{2} - 0.5 K_{y} \\left(y_{0} - y{\\left(t \\right)}\\right)^{2} - 0.5 K_{θ} θ^{2}{\\left(t \\right)} - g m_{s} l{\\left(t \\right)} \\cos{\\left(θ{\\left(t \\right)} \\right)} - g \\left(m_{p} y{\\left(t \\right)} + m_{s} \\left(d + y{\\left(t \\right)}\\right)\\right) + 0.5 m_{p} \\left(\\frac{d}{d t} x{\\left(t \\right)}\\right)^{2} + 0.5 m_{p} \\left(\\frac{d}{d t} y{\\left(t \\right)}\\right)^{2} + 0.5 m_{s} l^{2}{\\left(t \\right)} \\left(\\frac{d}{d t} θ{\\left(t \\right)}\\right)^{2} - 1.0 m_{s} l{\\left(t \\right)} \\sin{\\left(θ{\\left(t \\right)} \\right)} \\frac{d}{d t} y{\\left(t \\right)} \\frac{d}{d t} θ{\\left(t \\right)} - 1.0 m_{s} l{\\left(t \\right)} \\cos{\\left(θ{\\left(t \\right)} \\right)} \\frac{d}{d t} x{\\left(t \\right)} \\frac{d}{d t} θ{\\left(t \\right)} - 1.0 m_{s} \\sin{\\left(θ{\\left(t \\right)} \\right)} \\frac{d}{d t} l{\\left(t \\right)} \\frac{d}{d t} x{\\left(t \\right)} + 1.0 m_{s} \\cos{\\left(θ{\\left(t \\right)} \\right)} \\frac{d}{d t} l{\\left(t \\right)} \\frac{d}{d t} y{\\left(t \\right)} + 0.5 m_{s} \\left(\\frac{d}{d t} l{\\left(t \\right)}\\right)^{2} + 0.5 m_{s} \\left(\\frac{d}{d t} x{\\left(t \\right)}\\right)^{2} + 0.5 m_{s} \\left(\\frac{d}{d t} y{\\left(t \\right)}\\right)^{2}$"
      ],
      "text/plain": [
       "                                                                              \n",
       "                    2                      2            2                     \n",
       "- 0.5⋅Kₗ⋅(l₀ - l(t))  - 0.5⋅K_y⋅(y₀ - y(t))  - 0.5⋅K_θ⋅θ (t) - g⋅mₛ⋅l(t)⋅cos(θ\n",
       "                                                                              \n",
       "\n",
       "                                                      2                    2  \n",
       "                                            ⎛d       ⎞           ⎛d       ⎞   \n",
       "(t)) - g⋅(mₚ⋅y(t) + mₛ⋅(d + y(t))) + 0.5⋅mₚ⋅⎜──(x(t))⎟  + 0.5⋅mₚ⋅⎜──(y(t))⎟  +\n",
       "                                            ⎝dt      ⎠           ⎝dt      ⎠   \n",
       "\n",
       "                        2                                                     \n",
       "         2    ⎛d       ⎞                          d        d                  \n",
       " 0.5⋅mₛ⋅l (t)⋅⎜──(θ(t))⎟  - 1.0⋅mₛ⋅l(t)⋅sin(θ(t))⋅──(y(t))⋅──(θ(t)) - 1.0⋅mₛ⋅l\n",
       "              ⎝dt      ⎠                          dt       dt                 \n",
       "\n",
       "                                                                              \n",
       "              d        d                           d        d                 \n",
       "(t)⋅cos(θ(t))⋅──(x(t))⋅──(θ(t)) - 1.0⋅mₛ⋅sin(θ(t))⋅──(l(t))⋅──(x(t)) + 1.0⋅mₛ⋅\n",
       "              dt       dt                          dt       dt                \n",
       "\n",
       "                                               2                    2         \n",
       "          d        d                 ⎛d       ⎞           ⎛d       ⎞          \n",
       "cos(θ(t))⋅──(l(t))⋅──(y(t)) + 0.5⋅mₛ⋅⎜──(l(t))⎟  + 0.5⋅mₛ⋅⎜──(x(t))⎟  + 0.5⋅mₛ\n",
       "          dt       dt                ⎝dt      ⎠           ⎝dt      ⎠          \n",
       "\n",
       "           2\n",
       " ⎛d       ⎞ \n",
       "⋅⎜──(y(t))⎟ \n",
       " ⎝dt      ⎠ "
      ]
     },
     "metadata": {},
     "output_type": "display_data"
    }
   ],
   "source": [
    "L = T - V\n",
    "display(Latex('$L = T - V = $'), L)"
   ]
  },
  {
   "cell_type": "markdown",
   "metadata": {},
   "source": [
    "Equations of motion are calculated using Lagrange's method, $\\frac{d}{dt} \\left( \\frac{\\partial L}{\\partial\\dot{\\mathbf{q}}}\\right) - \\frac{\\partial L}{\\partial \\mathbf{q}} = \\mathbf{Q}_{damping} + \\mathbf{Q}_{input}$, or equivalently $\\frac{d}{dt} \\left( \\frac{\\partial L}{\\partial\\dot{\\mathbf{q}}}\\right) - \\frac{\\partial L}{\\partial \\mathbf{q}} - \\mathbf{Q}_{damping} - \\mathbf{Q}_{input} = \\mathbf{0}$."
   ]
  },
  {
   "cell_type": "code",
   "execution_count": 102,
   "metadata": {},
   "outputs": [
    {
     "data": {
      "text/plain": [
       "'EOM for x(t) is : '"
      ]
     },
     "metadata": {},
     "output_type": "display_data"
    },
    {
     "data": {
      "text/latex": [
       "$\\displaystyle C_{x} \\frac{d}{d t} x{\\left(t \\right)} - Q_{x} + 1.0 m_{p} \\frac{d^{2}}{d t^{2}} x{\\left(t \\right)} + 1.0 m_{s} l{\\left(t \\right)} \\sin{\\left(θ{\\left(t \\right)} \\right)} \\left(\\frac{d}{d t} θ{\\left(t \\right)}\\right)^{2} - 1.0 m_{s} l{\\left(t \\right)} \\cos{\\left(θ{\\left(t \\right)} \\right)} \\frac{d^{2}}{d t^{2}} θ{\\left(t \\right)} - 1.0 m_{s} \\sin{\\left(θ{\\left(t \\right)} \\right)} \\frac{d^{2}}{d t^{2}} l{\\left(t \\right)} - 2.0 m_{s} \\cos{\\left(θ{\\left(t \\right)} \\right)} \\frac{d}{d t} l{\\left(t \\right)} \\frac{d}{d t} θ{\\left(t \\right)} + 1.0 m_{s} \\frac{d^{2}}{d t^{2}} x{\\left(t \\right)}$"
      ],
      "text/plain": [
       "                            2                                         2       \n",
       "   d                       d                                ⎛d       ⎞        \n",
       "Cₓ⋅──(x(t)) - Qₓ + 1.0⋅mₚ⋅───(x(t)) + 1.0⋅mₛ⋅l(t)⋅sin(θ(t))⋅⎜──(θ(t))⎟  - 1.0⋅\n",
       "   dt                       2                               ⎝dt      ⎠        \n",
       "                          dt                                                  \n",
       "\n",
       "                    2                            2                            \n",
       "                   d                            d                           d \n",
       "mₛ⋅l(t)⋅cos(θ(t))⋅───(θ(t)) - 1.0⋅mₛ⋅sin(θ(t))⋅───(l(t)) - 2.0⋅mₛ⋅cos(θ(t))⋅──\n",
       "                    2                            2                          dt\n",
       "                  dt                           dt                             \n",
       "\n",
       "                           2      \n",
       "       d                  d       \n",
       "(l(t))⋅──(θ(t)) + 1.0⋅mₛ⋅───(x(t))\n",
       "       dt                  2      \n",
       "                         dt       "
      ]
     },
     "metadata": {},
     "output_type": "display_data"
    },
    {
     "data": {
      "text/plain": [
       "''"
      ]
     },
     "metadata": {},
     "output_type": "display_data"
    },
    {
     "data": {
      "text/plain": [
       "'EOM for y(t) is : '"
      ]
     },
     "metadata": {},
     "output_type": "display_data"
    },
    {
     "data": {
      "text/latex": [
       "$\\displaystyle C_{y} \\frac{d}{d t} y{\\left(t \\right)} - 1.0 K_{y} \\left(y_{0} - y{\\left(t \\right)}\\right) - Q_{y} + g \\left(m_{p} + m_{s}\\right) + 1.0 m_{p} \\frac{d^{2}}{d t^{2}} y{\\left(t \\right)} - 1.0 m_{s} l{\\left(t \\right)} \\sin{\\left(θ{\\left(t \\right)} \\right)} \\frac{d^{2}}{d t^{2}} θ{\\left(t \\right)} - 1.0 m_{s} l{\\left(t \\right)} \\cos{\\left(θ{\\left(t \\right)} \\right)} \\left(\\frac{d}{d t} θ{\\left(t \\right)}\\right)^{2} - 2.0 m_{s} \\sin{\\left(θ{\\left(t \\right)} \\right)} \\frac{d}{d t} l{\\left(t \\right)} \\frac{d}{d t} θ{\\left(t \\right)} + 1.0 m_{s} \\cos{\\left(θ{\\left(t \\right)} \\right)} \\frac{d^{2}}{d t^{2}} l{\\left(t \\right)} + 1.0 m_{s} \\frac{d^{2}}{d t^{2}} y{\\left(t \\right)}$"
      ],
      "text/plain": [
       "                                                                  2           \n",
       "    d                                                            d            \n",
       "C_y⋅──(y(t)) - 1.0⋅K_y⋅(y₀ - y(t)) - Q_y + g⋅(mₚ + mₛ) + 1.0⋅mₚ⋅───(y(t)) - 1.\n",
       "    dt                                                            2           \n",
       "                                                                dt            \n",
       "\n",
       "                      2                                         2             \n",
       "                     d                                ⎛d       ⎞              \n",
       "0⋅mₛ⋅l(t)⋅sin(θ(t))⋅───(θ(t)) - 1.0⋅mₛ⋅l(t)⋅cos(θ(t))⋅⎜──(θ(t))⎟  - 2.0⋅mₛ⋅sin\n",
       "                      2                               ⎝dt      ⎠              \n",
       "                    dt                                                        \n",
       "\n",
       "                                              2                  2      \n",
       "       d        d                            d                  d       \n",
       "(θ(t))⋅──(l(t))⋅──(θ(t)) + 1.0⋅mₛ⋅cos(θ(t))⋅───(l(t)) + 1.0⋅mₛ⋅───(y(t))\n",
       "       dt       dt                            2                  2      \n",
       "                                            dt                 dt       "
      ]
     },
     "metadata": {},
     "output_type": "display_data"
    },
    {
     "data": {
      "text/plain": [
       "''"
      ]
     },
     "metadata": {},
     "output_type": "display_data"
    },
    {
     "data": {
      "text/plain": [
       "'EOM for l(t) is : '"
      ]
     },
     "metadata": {},
     "output_type": "display_data"
    },
    {
     "data": {
      "text/latex": [
       "$\\displaystyle 1.0 C_{l} \\frac{d}{d t} l{\\left(t \\right)} - 1.0 K_{l} l_{0} + 1.0 K_{l} l{\\left(t \\right)} - 1.0 Q_{l} + 1.0 g m_{s} \\cos{\\left(θ{\\left(t \\right)} \\right)} - 1.0 m_{s} l{\\left(t \\right)} \\left(\\frac{d}{d t} θ{\\left(t \\right)}\\right)^{2} - 1.0 m_{s} \\sin{\\left(θ{\\left(t \\right)} \\right)} \\frac{d^{2}}{d t^{2}} x{\\left(t \\right)} + 1.0 m_{s} \\cos{\\left(θ{\\left(t \\right)} \\right)} \\frac{d^{2}}{d t^{2}} y{\\left(t \\right)} + 1.0 m_{s} \\frac{d^{2}}{d t^{2}} l{\\left(t \\right)}$"
      ],
      "text/plain": [
       "                                                                              \n",
       "       d                                                                      \n",
       "1.0⋅Cₗ⋅──(l(t)) - 1.0⋅Kₗ⋅l₀ + 1.0⋅Kₗ⋅l(t) - 1.0⋅Qₗ + 1.0⋅g⋅mₛ⋅cos(θ(t)) - 1.0⋅\n",
       "       dt                                                                     \n",
       "                                                                              \n",
       "\n",
       "                  2                      2                            2       \n",
       "        ⎛d       ⎞                      d                            d        \n",
       "mₛ⋅l(t)⋅⎜──(θ(t))⎟  - 1.0⋅mₛ⋅sin(θ(t))⋅───(x(t)) + 1.0⋅mₛ⋅cos(θ(t))⋅───(y(t)) \n",
       "        ⎝dt      ⎠                       2                            2       \n",
       "                                       dt                           dt        \n",
       "\n",
       "           2      \n",
       "          d       \n",
       "+ 1.0⋅mₛ⋅───(l(t))\n",
       "           2      \n",
       "         dt       "
      ]
     },
     "metadata": {},
     "output_type": "display_data"
    },
    {
     "data": {
      "text/plain": [
       "''"
      ]
     },
     "metadata": {},
     "output_type": "display_data"
    },
    {
     "data": {
      "text/plain": [
       "'EOM for θ(t) is : '"
      ]
     },
     "metadata": {},
     "output_type": "display_data"
    },
    {
     "data": {
      "text/latex": [
       "$\\displaystyle C_{θ} \\frac{d}{d t} θ{\\left(t \\right)} + 1.0 K_{θ} θ{\\left(t \\right)} - Q_{θ} - g m_{s} l{\\left(t \\right)} \\sin{\\left(θ{\\left(t \\right)} \\right)} + 1.0 m_{s} l^{2}{\\left(t \\right)} \\frac{d^{2}}{d t^{2}} θ{\\left(t \\right)} - 1.0 m_{s} l{\\left(t \\right)} \\sin{\\left(θ{\\left(t \\right)} \\right)} \\frac{d^{2}}{d t^{2}} y{\\left(t \\right)} - 1.0 m_{s} l{\\left(t \\right)} \\cos{\\left(θ{\\left(t \\right)} \\right)} \\frac{d^{2}}{d t^{2}} x{\\left(t \\right)} + 2.0 m_{s} l{\\left(t \\right)} \\frac{d}{d t} l{\\left(t \\right)} \\frac{d}{d t} θ{\\left(t \\right)}$"
      ],
      "text/plain": [
       "                                                                         2    \n",
       "    d                                                             2     d     \n",
       "C_θ⋅──(θ(t)) + 1.0⋅K_θ⋅θ(t) - Q_θ - g⋅mₛ⋅l(t)⋅sin(θ(t)) + 1.0⋅mₛ⋅l (t)⋅───(θ(t\n",
       "    dt                                                                   2    \n",
       "                                                                       dt     \n",
       "\n",
       "                             2                                 2              \n",
       "                            d                                 d               \n",
       ")) - 1.0⋅mₛ⋅l(t)⋅sin(θ(t))⋅───(y(t)) - 1.0⋅mₛ⋅l(t)⋅cos(θ(t))⋅───(x(t)) + 2.0⋅m\n",
       "                             2                                 2              \n",
       "                           dt                                dt               \n",
       "\n",
       "                        \n",
       "       d        d       \n",
       "ₛ⋅l(t)⋅──(l(t))⋅──(θ(t))\n",
       "       dt       dt      \n",
       "                        "
      ]
     },
     "metadata": {},
     "output_type": "display_data"
    },
    {
     "data": {
      "text/plain": [
       "''"
      ]
     },
     "metadata": {},
     "output_type": "display_data"
    }
   ],
   "source": [
    "# Initialize the eom matrix\n",
    "eom = Matrix([None, None, None, None])\n",
    "\n",
    "for k in range(4):\n",
    "    # Apply Lagrange's method\n",
    "    tmp = diff(diff(L, dqdt[k]), t) - diff(L, q[k]) - Qdamping[k] - Qinput[k]\n",
    "    \n",
    "    # Simplify\n",
    "    eom[k] = simplify(tmp)\n",
    "\n",
    "    # Display result\n",
    "    display('EOM for ' + str(q[k]) + ' is : ', eom[k], '')"
   ]
  },
  {
   "cell_type": "markdown",
   "metadata": {},
   "source": [
    "Next solve the equations of motion for the accelerations, $\\partial{\\boldsymbol{q}} / \\partial t$, using the SymPy `solve` function. This returns a dictionary where the keys are the symbolic variables for $\\partial \\mathbf{q} / \\partial t$. The loop simplifies the solution equations, and places them into a list that is given in the original order of `eom`. "
   ]
  },
  {
   "cell_type": "code",
   "execution_count": 104,
   "metadata": {},
   "outputs": [
    {
     "name": "stdout",
     "output_type": "stream",
     "text": [
      " \n"
     ]
    },
    {
     "data": {
      "text/latex": [
       "$\\displaystyle \\frac{d^{2}}{d t^{2}} x{\\left(t \\right)}$"
      ],
      "text/plain": [
       "  2      \n",
       " d       \n",
       "───(x(t))\n",
       "  2      \n",
       "dt       "
      ]
     },
     "metadata": {},
     "output_type": "display_data"
    },
    {
     "data": {
      "text/plain": [
       "' = '"
      ]
     },
     "metadata": {},
     "output_type": "display_data"
    },
    {
     "data": {
      "text/latex": [
       "$\\displaystyle \\frac{- C_{l} l{\\left(t \\right)} \\sin{\\left(θ{\\left(t \\right)} \\right)} \\frac{d}{d t} l{\\left(t \\right)} - C_{x} l{\\left(t \\right)} \\frac{d}{d t} x{\\left(t \\right)} - C_{θ} \\cos{\\left(θ{\\left(t \\right)} \\right)} \\frac{d}{d t} θ{\\left(t \\right)} + K_{l} l_{0} l{\\left(t \\right)} \\sin{\\left(θ{\\left(t \\right)} \\right)} - K_{l} l^{2}{\\left(t \\right)} \\sin{\\left(θ{\\left(t \\right)} \\right)} - K_{θ} θ{\\left(t \\right)} \\cos{\\left(θ{\\left(t \\right)} \\right)} + Q_{l} l{\\left(t \\right)} \\sin{\\left(θ{\\left(t \\right)} \\right)} + Q_{x} l{\\left(t \\right)} + Q_{θ} \\cos{\\left(θ{\\left(t \\right)} \\right)}}{m_{p} l{\\left(t \\right)}}$"
      ],
      "text/plain": [
       "                    d                  d                        d             \n",
       "- Cₗ⋅l(t)⋅sin(θ(t))⋅──(l(t)) - Cₓ⋅l(t)⋅──(x(t)) - C_θ⋅cos(θ(t))⋅──(θ(t)) + Kₗ⋅\n",
       "                    dt                 dt                       dt            \n",
       "──────────────────────────────────────────────────────────────────────────────\n",
       "                                                                              \n",
       "\n",
       "                        2                                                     \n",
       "l₀⋅l(t)⋅sin(θ(t)) - Kₗ⋅l (t)⋅sin(θ(t)) - K_θ⋅θ(t)⋅cos(θ(t)) + Qₗ⋅l(t)⋅sin(θ(t)\n",
       "                                                                              \n",
       "──────────────────────────────────────────────────────────────────────────────\n",
       "          mₚ⋅l(t)                                                             \n",
       "\n",
       "                           \n",
       ") + Qₓ⋅l(t) + Q_θ⋅cos(θ(t))\n",
       "                           \n",
       "───────────────────────────\n",
       "                           "
      ]
     },
     "metadata": {},
     "output_type": "display_data"
    },
    {
     "name": "stdout",
     "output_type": "stream",
     "text": [
      " \n"
     ]
    },
    {
     "data": {
      "text/latex": [
       "$\\displaystyle \\frac{d^{2}}{d t^{2}} y{\\left(t \\right)}$"
      ],
      "text/plain": [
       "  2      \n",
       " d       \n",
       "───(y(t))\n",
       "  2      \n",
       "dt       "
      ]
     },
     "metadata": {},
     "output_type": "display_data"
    },
    {
     "data": {
      "text/plain": [
       "' = '"
      ]
     },
     "metadata": {},
     "output_type": "display_data"
    },
    {
     "data": {
      "text/latex": [
       "$\\displaystyle \\frac{- g m_{p} l{\\left(t \\right)} + \\left(- C_{θ} \\frac{d}{d t} θ{\\left(t \\right)} - K_{θ} θ{\\left(t \\right)} + Q_{θ}\\right) \\sin{\\left(θ{\\left(t \\right)} \\right)} + \\left(C_{l} \\cos{\\left(θ{\\left(t \\right)} \\right)} \\frac{d}{d t} l{\\left(t \\right)} - C_{y} \\frac{d}{d t} y{\\left(t \\right)} - K_{l} l_{0} \\cos{\\left(θ{\\left(t \\right)} \\right)} + K_{l} l{\\left(t \\right)} \\cos{\\left(θ{\\left(t \\right)} \\right)} + K_{y} y_{0} - K_{y} y{\\left(t \\right)} - Q_{l} \\cos{\\left(θ{\\left(t \\right)} \\right)} + Q_{y}\\right) l{\\left(t \\right)}}{m_{p} l{\\left(t \\right)}}$"
      ],
      "text/plain": [
       "             ⎛      d                        ⎞             ⎛             d    \n",
       "-g⋅mₚ⋅l(t) + ⎜- C_θ⋅──(θ(t)) - K_θ⋅θ(t) + Q_θ⎟⋅sin(θ(t)) + ⎜Cₗ⋅cos(θ(t))⋅──(l(\n",
       "             ⎝      dt                       ⎠             ⎝             dt   \n",
       "──────────────────────────────────────────────────────────────────────────────\n",
       "                                                                              \n",
       "\n",
       "          d                                                                   \n",
       "t)) - C_y⋅──(y(t)) - Kₗ⋅l₀⋅cos(θ(t)) + Kₗ⋅l(t)⋅cos(θ(t)) + K_y⋅y₀ - K_y⋅y(t) -\n",
       "          dt                                                                  \n",
       "──────────────────────────────────────────────────────────────────────────────\n",
       "         mₚ⋅l(t)                                                              \n",
       "\n",
       "                   ⎞     \n",
       " Qₗ⋅cos(θ(t)) + Q_y⎟⋅l(t)\n",
       "                   ⎠     \n",
       "─────────────────────────\n",
       "                         "
      ]
     },
     "metadata": {},
     "output_type": "display_data"
    },
    {
     "name": "stdout",
     "output_type": "stream",
     "text": [
      " \n"
     ]
    },
    {
     "data": {
      "text/latex": [
       "$\\displaystyle \\frac{d^{2}}{d t^{2}} l{\\left(t \\right)}$"
      ],
      "text/plain": [
       "  2      \n",
       " d       \n",
       "───(l(t))\n",
       "  2      \n",
       "dt       "
      ]
     },
     "metadata": {},
     "output_type": "display_data"
    },
    {
     "data": {
      "text/plain": [
       "' = '"
      ]
     },
     "metadata": {},
     "output_type": "display_data"
    },
    {
     "data": {
      "text/latex": [
       "$\\displaystyle \\frac{m_{p} m_{s} l{\\left(t \\right)} \\left(\\frac{d}{d t} θ{\\left(t \\right)}\\right)^{2} + m_{p} \\left(- C_{l} \\frac{d}{d t} l{\\left(t \\right)} + K_{l} l_{0} - K_{l} l{\\left(t \\right)} + Q_{l}\\right) + m_{s} \\left(- C_{l} \\frac{d}{d t} l{\\left(t \\right)} - C_{x} \\sin{\\left(θ{\\left(t \\right)} \\right)} \\frac{d}{d t} x{\\left(t \\right)} + C_{y} \\cos{\\left(θ{\\left(t \\right)} \\right)} \\frac{d}{d t} y{\\left(t \\right)} + K_{l} l_{0} - K_{l} l{\\left(t \\right)} - K_{y} y_{0} \\cos{\\left(θ{\\left(t \\right)} \\right)} + K_{y} y{\\left(t \\right)} \\cos{\\left(θ{\\left(t \\right)} \\right)} + Q_{l} + Q_{x} \\sin{\\left(θ{\\left(t \\right)} \\right)} - Q_{y} \\cos{\\left(θ{\\left(t \\right)} \\right)}\\right)}{m_{p} m_{s}}$"
      ],
      "text/plain": [
       "                     2                                                        \n",
       "           ⎛d       ⎞       ⎛     d                              ⎞      ⎛     \n",
       "mₚ⋅mₛ⋅l(t)⋅⎜──(θ(t))⎟  + mₚ⋅⎜- Cₗ⋅──(l(t)) + Kₗ⋅l₀ - Kₗ⋅l(t) + Qₗ⎟ + mₛ⋅⎜- Cₗ⋅\n",
       "           ⎝dt      ⎠       ⎝     dt                             ⎠      ⎝     \n",
       "──────────────────────────────────────────────────────────────────────────────\n",
       "                                                                              \n",
       "\n",
       "                                                                              \n",
       "d                       d                        d                            \n",
       "──(l(t)) - Cₓ⋅sin(θ(t))⋅──(x(t)) + C_y⋅cos(θ(t))⋅──(y(t)) + Kₗ⋅l₀ - Kₗ⋅l(t) - \n",
       "dt                      dt                       dt                           \n",
       "──────────────────────────────────────────────────────────────────────────────\n",
       "                                  mₚ⋅mₛ                                       \n",
       "\n",
       "                                                                          \n",
       "                                                                         ⎞\n",
       "K_y⋅y₀⋅cos(θ(t)) + K_y⋅y(t)⋅cos(θ(t)) + Qₗ + Qₓ⋅sin(θ(t)) - Q_y⋅cos(θ(t))⎟\n",
       "                                                                         ⎠\n",
       "──────────────────────────────────────────────────────────────────────────\n",
       "                                                                          "
      ]
     },
     "metadata": {},
     "output_type": "display_data"
    },
    {
     "name": "stdout",
     "output_type": "stream",
     "text": [
      " \n"
     ]
    },
    {
     "data": {
      "text/latex": [
       "$\\displaystyle \\frac{d^{2}}{d t^{2}} θ{\\left(t \\right)}$"
      ],
      "text/plain": [
       "  2      \n",
       " d       \n",
       "───(θ(t))\n",
       "  2      \n",
       "dt       "
      ]
     },
     "metadata": {},
     "output_type": "display_data"
    },
    {
     "data": {
      "text/plain": [
       "' = '"
      ]
     },
     "metadata": {},
     "output_type": "display_data"
    },
    {
     "data": {
      "text/latex": [
       "$\\displaystyle \\frac{- C_{x} m_{s} l{\\left(t \\right)} \\cos{\\left(θ{\\left(t \\right)} \\right)} \\frac{d}{d t} x{\\left(t \\right)} - C_{y} m_{s} l{\\left(t \\right)} \\sin{\\left(θ{\\left(t \\right)} \\right)} \\frac{d}{d t} y{\\left(t \\right)} - C_{θ} m_{p} \\frac{d}{d t} θ{\\left(t \\right)} - C_{θ} m_{s} \\frac{d}{d t} θ{\\left(t \\right)} + K_{y} m_{s} y_{0} l{\\left(t \\right)} \\sin{\\left(θ{\\left(t \\right)} \\right)} - K_{y} m_{s} l{\\left(t \\right)} y{\\left(t \\right)} \\sin{\\left(θ{\\left(t \\right)} \\right)} - K_{θ} m_{p} θ{\\left(t \\right)} - K_{θ} m_{s} θ{\\left(t \\right)} + Q_{x} m_{s} l{\\left(t \\right)} \\cos{\\left(θ{\\left(t \\right)} \\right)} + Q_{y} m_{s} l{\\left(t \\right)} \\sin{\\left(θ{\\left(t \\right)} \\right)} + Q_{θ} m_{p} + Q_{θ} m_{s} - 2.0 m_{p} m_{s} l{\\left(t \\right)} \\frac{d}{d t} l{\\left(t \\right)} \\frac{d}{d t} θ{\\left(t \\right)}}{m_{p} m_{s} l^{2}{\\left(t \\right)}}$"
      ],
      "text/plain": [
       "                       d                                d                 d   \n",
       "- Cₓ⋅mₛ⋅l(t)⋅cos(θ(t))⋅──(x(t)) - C_y⋅mₛ⋅l(t)⋅sin(θ(t))⋅──(y(t)) - C_θ⋅mₚ⋅──(θ\n",
       "                       dt                               dt                dt  \n",
       "──────────────────────────────────────────────────────────────────────────────\n",
       "                                                                              \n",
       "                                                                              \n",
       "\n",
       "              d                                                               \n",
       "(t)) - C_θ⋅mₛ⋅──(θ(t)) + K_y⋅mₛ⋅y₀⋅l(t)⋅sin(θ(t)) - K_y⋅mₛ⋅l(t)⋅y(t)⋅sin(θ(t))\n",
       "              dt                                                              \n",
       "──────────────────────────────────────────────────────────────────────────────\n",
       "                                                                 2            \n",
       "                                                          mₚ⋅mₛ⋅l (t)         \n",
       "\n",
       "                                                                              \n",
       " - K_θ⋅mₚ⋅θ(t) - K_θ⋅mₛ⋅θ(t) + Qₓ⋅mₛ⋅l(t)⋅cos(θ(t)) + Q_y⋅mₛ⋅l(t)⋅sin(θ(t)) + \n",
       "                                                                              \n",
       "──────────────────────────────────────────────────────────────────────────────\n",
       "                                                                              \n",
       "                                                                              \n",
       "\n",
       "                                 d        d       \n",
       "Q_θ⋅mₚ + Q_θ⋅mₛ - 2.0⋅mₚ⋅mₛ⋅l(t)⋅──(l(t))⋅──(θ(t))\n",
       "                                 dt       dt      \n",
       "──────────────────────────────────────────────────\n",
       "                                                  \n",
       "                                                  "
      ]
     },
     "metadata": {},
     "output_type": "display_data"
    }
   ],
   "source": [
    "# Solve for the accelerations\n",
    "eom_solved = solve(eom, d2qdt2)\n",
    "\n",
    "# Initialize the eoms matrix\n",
    "eoms = Matrix([None, None, None, None])\n",
    "for k in range(4):\n",
    "    eoms[k] = simplify(eom_solved[d2qdt2[k]])\n",
    "    print(' ')\n",
    "    display(d2qdt2[k], ' = ')\n",
    "    display(eoms[k])    "
   ]
  },
  {
   "cell_type": "markdown",
   "metadata": {},
   "source": [
    "Substitute shorter variable names in for the derivatives"
   ]
  },
  {
   "cell_type": "code",
   "execution_count": 21,
   "metadata": {},
   "outputs": [
    {
     "ename": "IndentationError",
     "evalue": "unexpected indent (<ipython-input-21-22673f1f171e>, line 10)",
     "output_type": "error",
     "traceback": [
      "\u001b[0;36m  File \u001b[0;32m\"<ipython-input-21-22673f1f171e>\"\u001b[0;36m, line \u001b[0;32m10\u001b[0m\n\u001b[0;31m    .subs(Derivative(y, (t, 2)), ddy)\u001b[0m\n\u001b[0m    ^\u001b[0m\n\u001b[0;31mIndentationError\u001b[0m\u001b[0;31m:\u001b[0m unexpected indent\n"
     ]
    }
   ],
   "source": [
    "# e_x = e_x.subs(Derivative(x, (t, 2)), ddx).subs(Derivative(y, (t, 2)), ddy).subs(Derivative(l, (t, 2)), ddl).subs(Derivative(th, (t, 2)), ddth).subs(Derivative(l, t), dl).subs(Derivative(th, t), dth)\n",
    "# e_y = e_y.subs(Derivative(x, (t, 2)), ddx).subs(Derivative(y, (t, 2)), ddy).subs(Derivative(l, (t, 2)), ddl).subs(Derivative(th, (t, 2)), ddth).subs(Derivative(l, t), dl).subs(Derivative(th, t), dth)\n",
    "# e_l = e_l.subs(Derivative(x, (t, 2)), ddx).subs(Derivative(y, (t, 2)), ddy).subs(Derivative(l, (t, 2)), ddl).subs(Derivative(th, (t, 2)), ddth).subs(Derivative(l, t), dl).subs(Derivative(th, t), dth)\n",
    "# e_th = e_th.subs(Derivative(x, (t, 2)), ddx).subs(Derivative(y, (t, 2)), ddy).subs(Derivative(l, (t, 2)), ddl).subs(Derivative(th, (t, 2)), ddth).subs(Derivative(l, t), dl).subs(Derivative(th, t), dth)\n",
    "# lhs = Matrix([e_x, e_y, e_l, e_th])\n",
    "\n",
    "eom_shortened = Matrix([None, None, None, None])\n",
    "for k in range(4):\n",
    "    eom_shortened[k] = eom[k].subs(Derivative(x, (t, 2)), ddx)\n",
    "                                .subs(Derivative(y, (t, 2)), ddy)\n",
    "                                .subs(Derivative(l, (t, 2)), ddl)\n",
    "                                .subs(Derivative(th, (t, 2)), ddth)\n",
    "                                .subs(Derivative(l, t), dl)\n",
    "                                .subs(Derivative(th, t), dth)\n",
    "\n",
    "display(eom_shortened)"
   ]
  },
  {
   "cell_type": "markdown",
   "metadata": {},
   "source": [
    "Calculate mass matrix, and its inverse"
   ]
  },
  {
   "cell_type": "code",
   "execution_count": null,
   "metadata": {},
   "outputs": [],
   "source": [
    "#M = Matrix([[mc+mg, 0, -mg*sin(th), -mg*l*cos(th)],\n",
    "#            [0, mc+mg, mg*cos(th), -mg*l*sin(th)],\n",
    "#            [-mg*sin(th), mg*cos(th), mg, 0], \n",
    "#            [-mg*l*cos(th), -mg*l*sin(th), 0, mg*l**2]])\n",
    "#pprint(M)\n",
    "print()\n",
    "M = Matrix([[diff(e_x, ddx), diff(e_x, ddy), diff(e_x, ddl), diff(e_x, ddth)],\n",
    "            [diff(e_y, ddx), diff(e_y, ddy), diff(e_y, ddl), diff(e_y, ddth)], \n",
    "            [diff(e_l, ddx), diff(e_l, ddy), diff(e_l, ddl), diff(e_l, ddth)], \n",
    "            [diff(e_th, ddx), diff(e_th, ddy), diff(e_th, ddl), diff(e_th, ddth)]])\n",
    "Minv = simplify(M.inv())\n",
    "MinvQ = Minv*Q\n",
    "pprint(M)\n",
    "print()\n",
    "pprint(Minv)\n",
    "print()\n",
    "print(str(MinvQ[0]).replace('mc', 'p.mc').replace('l(t)', 'gs.lp[k]').replace('th(t)', 'gs.tp[k]').replace('Qx', 'Q[0]').replace('Qy', 'Q[1]').replace('Ql', 'Q[2]').replace('Qth', 'Q[3]'))\n",
    "print()\n",
    "print(str(MinvQ[1]).replace('mc', 'p.mc').replace('l(t)', 'gs.lp[k]').replace('th(t)', 'gs.tp[k]').replace('Qx', 'Q[0]').replace('Qy', 'Q[1]').replace('Ql', 'Q[2]').replace('Qth', 'Q[3]'))\n",
    "print()\n",
    "print(str(MinvQ[2]).replace('mc', 'p.mc').replace('l(t)', 'gs.lp[k]').replace('th(t)', 'gs.tp[k]').replace('Qx', 'Q[0]').replace('Qy', 'Q[1]').replace('Ql', 'Q[2]').replace('Qth', 'Q[3]'))\n",
    "print()\n",
    "print(str(MinvQ[3]).replace('mc', 'p.mc').replace('l(t)', 'gs.lp[k]').replace('th(t)', 'gs.tp[k]').replace('Qx', 'Q[0]').replace('Qy', 'Q[1]').replace('Ql', 'Q[2]').replace('Qth', 'Q[3]'))"
   ]
  },
  {
   "cell_type": "markdown",
   "metadata": {},
   "source": [
    "Pre-multiply by the inverse of the mass matrix to obtain an integrable system of equations"
   ]
  },
  {
   "cell_type": "code",
   "execution_count": null,
   "metadata": {
    "scrolled": true
   },
   "outputs": [],
   "source": [
    "rhs = simplify(M.inv()*(-lhs + M*ddq - C + Q))\n",
    "#pprint(rhs)"
   ]
  },
  {
   "cell_type": "markdown",
   "metadata": {},
   "source": [
    "Replace strings in rhs to obtain the system in python code that is paste-able into scripts"
   ]
  },
  {
   "cell_type": "code",
   "execution_count": null,
   "metadata": {},
   "outputs": [],
   "source": [
    "#repset = ['l0', 'p.l0', 'y0', 'p.y0']\n",
    "#rhs_str = []\n",
    "# for k in range(4):\n",
    "    #for n in range(2):\n",
    "    #    rhs_str[k] = rhs_str.replace(repset[n][0], repset[n][1]) \n",
    "    #print('ddq['+str(k)+'] = '+rhs_str[k])\n",
    "dx, dy, dl, dth = symbols('dx dy dl dθ')\n",
    "ddx, ddy, ddl, ddth = symbols('ddx ddy ddl ddθ')\n",
    "dq = Matrix([dx, dy, dl, dth])\n",
    "ddq = Matrix([ddx, ddy, ddl, ddth])\n",
    "st, ct = symbols('st ct')    \n",
    "for k in range(4):\n",
    "    print()\n",
    "    print('ddq['+str(k)+'] = '+str(rhs[k]).replace('l0','p.l0').replace('y0','p.y0').replace('grav','p.g').replace('sin(th(t))','s').replace('cos(th(t))','c').replace('y(t)','yp[k]').replace('dx','dxp[k]').replace('dy','dyp[k]').replace('l(t)','lp[k]').replace('dl','dlp[k]').replace('th(t)','tp[k]').replace('dth','dtp[k]').replace('Cl','p.Cl').replace('Cth','p.Ct').replace('Cx','p.Cx').replace('Cy','p.Cy').replace('Ky','p.Ky').replace('Kl','p.Kl').replace('Kt','p.Kt').replace('mc','p.mc').replace('mg','p.mg'))\n",
    "    \n",
    "    "
   ]
  }
 ],
 "metadata": {
  "kernelspec": {
   "display_name": "Python 3",
   "language": "python",
   "name": "python3"
  },
  "language_info": {
   "codemirror_mode": {
    "name": "ipython",
    "version": 3
   },
   "file_extension": ".py",
   "mimetype": "text/x-python",
   "name": "python",
   "nbconvert_exporter": "python",
   "pygments_lexer": "ipython3",
   "version": "3.7.3"
  }
 },
 "nbformat": 4,
 "nbformat_minor": 4
}
