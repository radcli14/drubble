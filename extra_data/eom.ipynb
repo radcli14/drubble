{
 "cells": [
  {
   "attachments": {
    "diagram.png": {
     "image/png": "[encoded data removed]"
    }
   },
   "cell_type": "markdown",
   "metadata": {},
   "source": [
    "![diagram.png](attachment:diagram.png)"
   ]
  },
  {
   "cell_type": "markdown",
   "metadata": {},
   "source": [
    "First we import the NumPy and SymPy mechanics modules in python. NumPy provides an extensive set of numerical analysis funtions, while SymPy is a symbolic coding environment with the mechanics module standardizing various kinematic transformations and and equation of motion generation. The IPython display modules are imported to generate typeset equations suitable for document publication."
   ]
  },
  {
   "cell_type": "code",
   "execution_count": 1,
   "metadata": {},
   "outputs": [],
   "source": [
    "import numpy as np\n",
    "from sympy import *\n",
    "from sympy.physics.mechanics import *\n",
    "from IPython.display import display, Latex\n",
    "#init_printing(use_latex='mathjax')"
   ]
  },
  {
   "cell_type": "markdown",
   "metadata": {},
   "source": [
    "To begin the dynamics model formulation, we first define the generalized coordinates. The player is defined as a point mass located at point $p$, with positions $(x, y)$ defined relative to the origin in the horizontal and vertical directions, respectively. The stool is also defined as a point mass located at point $s$, which is translated and rotated relative to the player with a transformation (to be described later) requiring an arm extension length $l$ and stool tilt angle $θ$. These four variables form the generalized coordinate vector $\\boldsymbol{q}$. \n",
    "\n",
    "The SymPy Mechanics `dynamicsymbols` function is used to define these as symbolic variables that are time-varying, and therefore candidate degrees-of-freedom (DOFs). Notably, the left hand side of the equation are the variables to be used in the source code, where `th` is used in place of $θ$. When typing code that references the tilt angle, `th` will be used, whereas when the `display` function is called to typeset the equation, the more visually appealing $θ$ is used, as seen below. Also note that the display adds the $(t)$ to each variable, indicating it is time-varying. The chained assignment operators (i.e. `a = b = c`) are used such that in the source code the variables `generalized_coords` and `q` can be used interchangeably."
   ]
  },
  {
   "cell_type": "code",
   "execution_count": 2,
   "metadata": {},
   "outputs": [
    {
     "data": {
      "text/latex": [
       "$\\displaystyle \\left[\\begin{matrix}x{\\left(t \\right)}\\\\y{\\left(t \\right)}\\\\l{\\left(t \\right)}\\\\θ{\\left(t \\right)}\\end{matrix}\\right]$"
      ],
      "text/plain": [
       "Matrix([\n",
       "[x(t)],\n",
       "[y(t)],\n",
       "[l(t)],\n",
       "[θ(t)]])"
      ]
     },
     "metadata": {},
     "output_type": "display_data"
    }
   ],
   "source": [
    "x, y, l, th = dynamicsymbols('x y l θ')\n",
    "generalized_coords = q = Matrix([x, y, l, th])\n",
    "display(q)"
   ]
  },
  {
   "cell_type": "markdown",
   "metadata": {},
   "source": [
    "We will also need the derivatives of these coordinates with respect to time, which are obtained by calling the `dynamicsymbols` function with the second argument `1` indicating the first derivative."
   ]
  },
  {
   "cell_type": "code",
   "execution_count": 3,
   "metadata": {},
   "outputs": [
    {
     "data": {
      "text/latex": [
       "$\\displaystyle \\left[\\begin{matrix}\\frac{d}{d t} x{\\left(t \\right)}\\\\\\frac{d}{d t} y{\\left(t \\right)}\\\\\\frac{d}{d t} l{\\left(t \\right)}\\\\\\frac{d}{d t} θ{\\left(t \\right)}\\end{matrix}\\right]$"
      ],
      "text/plain": [
       "Matrix([\n",
       "[Derivative(x(t), t)],\n",
       "[Derivative(y(t), t)],\n",
       "[Derivative(l(t), t)],\n",
       "[Derivative(θ(t), t)]])"
      ]
     },
     "metadata": {},
     "output_type": "display_data"
    }
   ],
   "source": [
    "dxdt, dydt, dldt, dthdt = dynamicsymbols('x y l θ', 1)\n",
    "ddt_generalized_coords = dqdt = Matrix([dxdt, dydt, dldt, dthdt])\n",
    "display(dqdt)"
   ]
  },
  {
   "cell_type": "markdown",
   "metadata": {},
   "source": [
    "Initial values for the generalized coordinates are represented by a subscript $0$, where $\\boldsymbol{q}_0 = (x_0, y_0, l_0, θ_0)^T$. In SymPy, these are defined using a call to the `symbols` function, which declares them as constants. As before, a slight variation is used for the variable representation in the source code versus in typesetting, where for the latter the underscore is used to ensure that these are typeset as a subscript."
   ]
  },
  {
   "cell_type": "code",
   "execution_count": 4,
   "metadata": {},
   "outputs": [
    {
     "data": {
      "text/latex": [
       "$\\displaystyle \\left[\\begin{matrix}x_{0}\\\\y_{0}\\\\l_{0}\\\\θ_{0}\\end{matrix}\\right]$"
      ],
      "text/plain": [
       "Matrix([\n",
       "[x_0],\n",
       "[y_0],\n",
       "[l_0],\n",
       "[θ_0]])"
      ]
     },
     "metadata": {},
     "output_type": "display_data"
    }
   ],
   "source": [
    "x0, y0, l0, th0 = symbols('x_0 y_0 l_0 θ_0')\n",
    "q0 = Matrix([x0, y0, l0, th0])\n",
    "display(q0)"
   ]
  },
  {
   "cell_type": "markdown",
   "metadata": {},
   "source": [
    "To facilitate equation of motion generation using Kane's method, we will also define a set of generalized speeds. In this case, we will use substition variables $u = \\frac{\\partial x}{\\partial t}$, $v = \\frac{\\partial y}{\\partial t}$, $w = \\frac{\\partial l}{\\partial t}$, and $ω = \\frac{\\partial θ}{\\partial t}$."
   ]
  },
  {
   "cell_type": "code",
   "execution_count": 5,
   "metadata": {},
   "outputs": [
    {
     "data": {
      "text/latex": [
       "$\\displaystyle \\left[\\begin{matrix}u{\\left(t \\right)}\\\\v{\\left(t \\right)}\\\\w{\\left(t \\right)}\\\\ω{\\left(t \\right)}\\end{matrix}\\right]$"
      ],
      "text/plain": [
       "Matrix([\n",
       "[u(t)],\n",
       "[v(t)],\n",
       "[w(t)],\n",
       "[ω(t)]])"
      ]
     },
     "metadata": {},
     "output_type": "display_data"
    }
   ],
   "source": [
    "u, v, w, omeg = dynamicsymbols('u v w ω')\n",
    "generalized_speeds = s = Matrix([u, v, w, omeg])\n",
    "display(generalized_speeds)"
   ]
  },
  {
   "cell_type": "markdown",
   "metadata": {},
   "source": [
    "A kinematic equation will be used in Kane's method to define the equality $\\boldsymbol{s} = \\frac{\\partial \\boldsymbol{q}}{\\partial t}$, equivalently $\\boldsymbol{s} - \\frac{\\partial \\boldsymbol{q}}{\\partial t} = \\boldsymbol$"
   ]
  },
  {
   "cell_type": "code",
   "execution_count": 6,
   "metadata": {},
   "outputs": [
    {
     "data": {
      "text/latex": [
       "$\\displaystyle \\left[\\begin{matrix}u{\\left(t \\right)} - \\frac{d}{d t} x{\\left(t \\right)}\\\\v{\\left(t \\right)} - \\frac{d}{d t} y{\\left(t \\right)}\\\\w{\\left(t \\right)} - \\frac{d}{d t} l{\\left(t \\right)}\\\\ω{\\left(t \\right)} - \\frac{d}{d t} θ{\\left(t \\right)}\\end{matrix}\\right]$"
      ],
      "text/plain": [
       "Matrix([\n",
       "[u(t) - Derivative(x(t), t)],\n",
       "[v(t) - Derivative(y(t), t)],\n",
       "[w(t) - Derivative(l(t), t)],\n",
       "[ω(t) - Derivative(θ(t), t)]])"
      ]
     },
     "metadata": {},
     "output_type": "display_data"
    }
   ],
   "source": [
    "kinematic_equation = s - dqdt\n",
    "display(kinematic_equation)"
   ]
  },
  {
   "cell_type": "code",
   "execution_count": 7,
   "metadata": {},
   "outputs": [],
   "source": [
    "dx, dy, dl, dth = symbols('dx dy dl dθ')\n",
    "ddx, ddy, ddl, ddth = symbols('ddx ddy ddl ddθ')\n",
    "dq = Matrix([dx, dy, dl, dth])\n",
    "ddq = Matrix([ddx, ddy, ddl, ddth])"
   ]
  },
  {
   "cell_type": "markdown",
   "metadata": {},
   "source": [
    "Next we define the constants, including masses $m_p$ and $m_s$ of the player and stool, an offset distance $d$ between the player center of mass and the point about which the stool rotates, the gravitational constant $'g'$ (represented by `grav` in source code). "
   ]
  },
  {
   "cell_type": "code",
   "execution_count": 8,
   "metadata": {},
   "outputs": [],
   "source": [
    "mp, ms, d, grav, t = symbols('m_p m_s d g t')"
   ]
  },
  {
   "cell_type": "markdown",
   "metadata": {},
   "source": [
    "The spring coefficients $K_y$, $K_l$, and $K_θ$ introduce generalized forces into the system proportional to the subscripted coordinate minus its initial value. "
   ]
  },
  {
   "cell_type": "code",
   "execution_count": 9,
   "metadata": {},
   "outputs": [
    {
     "data": {
      "text/latex": [
       "$\\displaystyle \\left[\\begin{matrix}0\\\\K_{y} \\left(y_{0} - y{\\left(t \\right)}\\right)\\\\K_{l} \\left(l_{0} - l{\\left(t \\right)}\\right)\\\\K_{θ} \\left(θ_{0} - θ{\\left(t \\right)}\\right)\\end{matrix}\\right]$"
      ],
      "text/plain": [
       "Matrix([\n",
       "[               0],\n",
       "[K_y*(y_0 - y(t))],\n",
       "[K_l*(l_0 - l(t))],\n",
       "[K_θ*(θ_0 - θ(t))]])"
      ]
     },
     "metadata": {},
     "output_type": "display_data"
    }
   ],
   "source": [
    "Ky, Kl, Kt = symbols('K_y K_l K_θ')\n",
    "generalized_spring_forces = QK =  Matrix([0, Ky * (y0 - y), Kl * (l0 - l), Kt * (th0 - th)])\n",
    "display(generalized_spring_forces)"
   ]
  },
  {
   "cell_type": "markdown",
   "metadata": {},
   "source": [
    "Likewise, the damping constants $C_x$, $C_y$, $C_l$, and $C_θ$ induce generalized forces proportional to derivatives with respect to time of the generalized coordinates."
   ]
  },
  {
   "cell_type": "code",
   "execution_count": 10,
   "metadata": {},
   "outputs": [
    {
     "data": {
      "text/latex": [
       "$\\displaystyle \\left[\\begin{matrix}- C_{x} \\frac{d}{d t} x{\\left(t \\right)}\\\\- C_{y} \\frac{d}{d t} y{\\left(t \\right)}\\\\- C_{l} \\frac{d}{d t} l{\\left(t \\right)}\\\\- C_{θ} \\frac{d}{d t} θ{\\left(t \\right)}\\end{matrix}\\right]$"
      ],
      "text/plain": [
       "Matrix([\n",
       "[-C_x*Derivative(x(t), t)],\n",
       "[-C_y*Derivative(y(t), t)],\n",
       "[-C_l*Derivative(l(t), t)],\n",
       "[-C_θ*Derivative(θ(t), t)]])"
      ]
     },
     "metadata": {},
     "output_type": "display_data"
    }
   ],
   "source": [
    "Cx, Cy, Cl, Cth = symbols('C_x C_y C_l C_θ')\n",
    "generalized_damping_forces = QC = Matrix([- Cx * dxdt, - Cy * dydt, - Cl * dldt, - Cth * dthdt])\n",
    "display(generalized_damping_forces)"
   ]
  },
  {
   "cell_type": "markdown",
   "metadata": {},
   "source": [
    "The generalized input forces $Q_x$, represent the control variables, from either player inputs or the computer control logic algorithm."
   ]
  },
  {
   "cell_type": "code",
   "execution_count": 11,
   "metadata": {},
   "outputs": [
    {
     "data": {
      "text/latex": [
       "$\\displaystyle \\left[\\begin{matrix}Q_{x}\\\\Q_{y}\\\\Q_{l}\\\\Q_{θ}\\end{matrix}\\right]$"
      ],
      "text/plain": [
       "Matrix([\n",
       "[Q_x],\n",
       "[Q_y],\n",
       "[Q_l],\n",
       "[Q_θ]])"
      ]
     },
     "metadata": {},
     "output_type": "display_data"
    }
   ],
   "source": [
    "Qx, Qy, Ql, Qth = symbols('Q_x Q_y Q_l Q_θ')\n",
    "generalized_input_forces = Q = Matrix([Qx, Qy, Ql, Qth])\n",
    "display(Q)"
   ]
  },
  {
   "cell_type": "markdown",
   "metadata": {},
   "source": [
    "Create the origin frame `O` and stool frame `S`, and transformation matrxi"
   ]
  },
  {
   "cell_type": "code",
   "execution_count": 12,
   "metadata": {},
   "outputs": [
    {
     "ename": "NameError",
     "evalue": "name 'R' is not defined",
     "output_type": "error",
     "traceback": [
      "\u001b[0;31m---------------------------------------------------------------------------\u001b[0m",
      "\u001b[0;31mNameError\u001b[0m                                 Traceback (most recent call last)",
      "\u001b[0;32m<ipython-input-12-3b4471866ebe>\u001b[0m in \u001b[0;36m<module>\u001b[0;34m\u001b[0m\n\u001b[1;32m      1\u001b[0m \u001b[0mO\u001b[0m \u001b[0;34m=\u001b[0m \u001b[0mReferenceFrame\u001b[0m\u001b[0;34m(\u001b[0m\u001b[0;34m'R'\u001b[0m\u001b[0;34m)\u001b[0m\u001b[0;34m\u001b[0m\u001b[0;34m\u001b[0m\u001b[0m\n\u001b[1;32m      2\u001b[0m \u001b[0mS\u001b[0m \u001b[0;34m=\u001b[0m \u001b[0mReferenceFrame\u001b[0m\u001b[0;34m(\u001b[0m\u001b[0;34m'S'\u001b[0m\u001b[0;34m)\u001b[0m\u001b[0;34m\u001b[0m\u001b[0;34m\u001b[0m\u001b[0m\n\u001b[0;32m----> 3\u001b[0;31m \u001b[0mS\u001b[0m\u001b[0;34m.\u001b[0m\u001b[0morient\u001b[0m\u001b[0;34m(\u001b[0m\u001b[0mR\u001b[0m\u001b[0;34m,\u001b[0m \u001b[0;34m'Axis'\u001b[0m\u001b[0;34m,\u001b[0m \u001b[0;34m[\u001b[0m\u001b[0mth\u001b[0m\u001b[0;34m,\u001b[0m \u001b[0mR\u001b[0m\u001b[0;34m.\u001b[0m\u001b[0mz\u001b[0m\u001b[0;34m]\u001b[0m\u001b[0;34m)\u001b[0m\u001b[0;34m\u001b[0m\u001b[0;34m\u001b[0m\u001b[0m\n\u001b[0m\u001b[1;32m      4\u001b[0m \u001b[0mdisplay\u001b[0m\u001b[0;34m(\u001b[0m\u001b[0mS\u001b[0m\u001b[0;34m.\u001b[0m\u001b[0mdcm\u001b[0m\u001b[0;34m(\u001b[0m\u001b[0mR\u001b[0m\u001b[0;34m)\u001b[0m\u001b[0;34m)\u001b[0m\u001b[0;34m\u001b[0m\u001b[0;34m\u001b[0m\u001b[0m\n",
      "\u001b[0;31mNameError\u001b[0m: name 'R' is not defined"
     ]
    }
   ],
   "source": [
    "O = ReferenceFrame('R')\n",
    "S = ReferenceFrame('S')\n",
    "S.orient(R, 'Axis', [th, R.z])\n",
    "display(S.dcm(R))"
   ]
  },
  {
   "cell_type": "markdown",
   "metadata": {},
   "source": [
    "Create points for the inertial reference 'O', player 'p', and stool 's'"
   ]
  },
  {
   "cell_type": "code",
   "execution_count": null,
   "metadata": {},
   "outputs": [],
   "source": [
    "O = Point('O')\n",
    "O.set_vel(R, 0)\n",
    "p = Point('p')\n",
    "s = Point('s')"
   ]
  },
  {
   "cell_type": "markdown",
   "metadata": {},
   "source": [
    "Define the vectors to the player and stool"
   ]
  },
  {
   "cell_type": "code",
   "execution_count": null,
   "metadata": {},
   "outputs": [],
   "source": [
    "rp = x * R.x + y * R.y\n",
    "rs = x * R.x + (y + d) * R.y + l * S.y\n",
    "p.set_pos(O, x * R.x + y * R.y)\n",
    "s.set_pos(p, d * R.y + l * S.y)\n",
    "print('The player position expressed in the R frame is')\n",
    "display(rp)\n",
    "print('The stool position expressed in the R frame is')\n",
    "display(rs.express(R))\n",
    "# display(p.pos_from(O))\n",
    "# display(s.pos_from(O).express(R))"
   ]
  },
  {
   "cell_type": "markdown",
   "metadata": {},
   "source": [
    "Calculate velocities of the player and stool"
   ]
  },
  {
   "cell_type": "code",
   "execution_count": null,
   "metadata": {},
   "outputs": [],
   "source": [
    "vp = rp.dt(R)\n",
    "vs = rs.dt(R)\n",
    "print('The player velocity expressed in the R frame is')\n",
    "display(vp)\n",
    "print('The stool velocity expressed in the R frame is') \n",
    "display(vs.express(R))"
   ]
  },
  {
   "cell_type": "markdown",
   "metadata": {},
   "source": [
    "Calculate kinetic and potential energies, and lagrangian"
   ]
  },
  {
   "cell_type": "code",
   "execution_count": null,
   "metadata": {},
   "outputs": [],
   "source": [
    "T = simplify( 0.5 * mc * dot(vp, vp) + 0.5 * mg*dot(vs, vs) )\n",
    "V = mc * grav * y + mg * grav * (y + d + l * cos(th)) + 0.5 * Ky * (y - y0)**2 + 0.5 * Kl * (l-l0)**2 + 0.5 * Kt * th**2\n",
    "L = T - V\n",
    "display(L)"
   ]
  },
  {
   "cell_type": "markdown",
   "metadata": {},
   "source": [
    "Calculate left hand side of equations of motion using Lagrange method"
   ]
  },
  {
   "cell_type": "code",
   "execution_count": null,
   "metadata": {},
   "outputs": [],
   "source": [
    "e_x = simplify(diff(diff(L,Derivative(x, t)), t) - diff(L, x))\n",
    "e_y = simplify(diff(diff(L,Derivative(y, t)), t) - diff(L, y))\n",
    "e_l = simplify(diff(diff(L,Derivative(l, t)), t) - diff(L, l))\n",
    "e_th = simplify(diff(diff(L,Derivative(th, t)), t) - diff(L, th))\n",
    "\n",
    "display(e_x)"
   ]
  },
  {
   "cell_type": "markdown",
   "metadata": {},
   "source": [
    "Substitute shorter variable names in for the derivatives"
   ]
  },
  {
   "cell_type": "code",
   "execution_count": null,
   "metadata": {},
   "outputs": [],
   "source": [
    "e_x = e_x.subs(Derivative(x, (t, 2)), ddx).subs(Derivative(y, (t, 2)), ddy).subs(Derivative(l, (t, 2)), ddl).subs(Derivative(th, (t, 2)), ddth).subs(Derivative(l, t), dl).subs(Derivative(th, t), dth)\n",
    "e_y = e_y.subs(Derivative(x, (t, 2)), ddx).subs(Derivative(y, (t, 2)), ddy).subs(Derivative(l, (t, 2)), ddl).subs(Derivative(th, (t, 2)), ddth).subs(Derivative(l, t), dl).subs(Derivative(th, t), dth)\n",
    "e_l = e_l.subs(Derivative(x, (t, 2)), ddx).subs(Derivative(y, (t, 2)), ddy).subs(Derivative(l, (t, 2)), ddl).subs(Derivative(th, (t, 2)), ddth).subs(Derivative(l, t), dl).subs(Derivative(th, t), dth)\n",
    "e_th = e_th.subs(Derivative(x, (t, 2)), ddx).subs(Derivative(y, (t, 2)), ddy).subs(Derivative(l, (t, 2)), ddl).subs(Derivative(th, (t, 2)), ddth).subs(Derivative(l, t), dl).subs(Derivative(th, t), dth)\n",
    "lhs = Matrix([e_x, e_y, e_l, e_th])\n",
    "\n",
    "print(e_x)\n",
    "print()\n",
    "print(e_y)\n",
    "print()\n",
    "print(e_l)\n",
    "print()\n",
    "print(e_th)\n",
    "print()"
   ]
  },
  {
   "cell_type": "markdown",
   "metadata": {},
   "source": [
    "Calculate mass matrix, and its inverse"
   ]
  },
  {
   "cell_type": "code",
   "execution_count": null,
   "metadata": {},
   "outputs": [],
   "source": [
    "#M = Matrix([[mc+mg, 0, -mg*sin(th), -mg*l*cos(th)],\n",
    "#            [0, mc+mg, mg*cos(th), -mg*l*sin(th)],\n",
    "#            [-mg*sin(th), mg*cos(th), mg, 0], \n",
    "#            [-mg*l*cos(th), -mg*l*sin(th), 0, mg*l**2]])\n",
    "#pprint(M)\n",
    "print()\n",
    "M = Matrix([[diff(e_x, ddx), diff(e_x, ddy), diff(e_x, ddl), diff(e_x, ddth)],\n",
    "            [diff(e_y, ddx), diff(e_y, ddy), diff(e_y, ddl), diff(e_y, ddth)], \n",
    "            [diff(e_l, ddx), diff(e_l, ddy), diff(e_l, ddl), diff(e_l, ddth)], \n",
    "            [diff(e_th, ddx), diff(e_th, ddy), diff(e_th, ddl), diff(e_th, ddth)]])\n",
    "Minv = simplify(M.inv())\n",
    "MinvQ = Minv*Q\n",
    "pprint(M)\n",
    "print()\n",
    "pprint(Minv)\n",
    "print()\n",
    "print(str(MinvQ[0]).replace('mc', 'p.mc').replace('l(t)', 'gs.lp[k]').replace('th(t)', 'gs.tp[k]').replace('Qx', 'Q[0]').replace('Qy', 'Q[1]').replace('Ql', 'Q[2]').replace('Qth', 'Q[3]'))\n",
    "print()\n",
    "print(str(MinvQ[1]).replace('mc', 'p.mc').replace('l(t)', 'gs.lp[k]').replace('th(t)', 'gs.tp[k]').replace('Qx', 'Q[0]').replace('Qy', 'Q[1]').replace('Ql', 'Q[2]').replace('Qth', 'Q[3]'))\n",
    "print()\n",
    "print(str(MinvQ[2]).replace('mc', 'p.mc').replace('l(t)', 'gs.lp[k]').replace('th(t)', 'gs.tp[k]').replace('Qx', 'Q[0]').replace('Qy', 'Q[1]').replace('Ql', 'Q[2]').replace('Qth', 'Q[3]'))\n",
    "print()\n",
    "print(str(MinvQ[3]).replace('mc', 'p.mc').replace('l(t)', 'gs.lp[k]').replace('th(t)', 'gs.tp[k]').replace('Qx', 'Q[0]').replace('Qy', 'Q[1]').replace('Ql', 'Q[2]').replace('Qth', 'Q[3]'))"
   ]
  },
  {
   "cell_type": "markdown",
   "metadata": {},
   "source": [
    "Pre-multiply by the inverse of the mass matrix to obtain an integrable system of equations"
   ]
  },
  {
   "cell_type": "code",
   "execution_count": null,
   "metadata": {
    "scrolled": true
   },
   "outputs": [],
   "source": [
    "rhs = simplify(M.inv()*(-lhs + M*ddq - C + Q))\n",
    "#pprint(rhs)"
   ]
  },
  {
   "cell_type": "markdown",
   "metadata": {},
   "source": [
    "Replace strings in rhs to obtain the system in python code that is paste-able into scripts"
   ]
  },
  {
   "cell_type": "code",
   "execution_count": null,
   "metadata": {},
   "outputs": [],
   "source": [
    "#repset = ['l0', 'p.l0', 'y0', 'p.y0']\n",
    "#rhs_str = []\n",
    "# for k in range(4):\n",
    "    #for n in range(2):\n",
    "    #    rhs_str[k] = rhs_str.replace(repset[n][0], repset[n][1]) \n",
    "    #print('ddq['+str(k)+'] = '+rhs_str[k])\n",
    "st, ct = symbols('st ct')    \n",
    "for k in range(4):\n",
    "    print()\n",
    "    print('ddq['+str(k)+'] = '+str(rhs[k]).replace('l0','p.l0').replace('y0','p.y0').replace('grav','p.g').replace('sin(th(t))','s').replace('cos(th(t))','c').replace('y(t)','yp[k]').replace('dx','dxp[k]').replace('dy','dyp[k]').replace('l(t)','lp[k]').replace('dl','dlp[k]').replace('th(t)','tp[k]').replace('dth','dtp[k]').replace('Cl','p.Cl').replace('Cth','p.Ct').replace('Cx','p.Cx').replace('Cy','p.Cy').replace('Ky','p.Ky').replace('Kl','p.Kl').replace('Kt','p.Kt').replace('mc','p.mc').replace('mg','p.mg'))\n",
    "    \n",
    "    "
   ]
  }
 ],
 "metadata": {
  "kernelspec": {
   "display_name": "Python 3",
   "language": "python",
   "name": "python3"
  },
  "language_info": {
   "codemirror_mode": {
    "name": "ipython",
    "version": 3
   },
   "file_extension": ".py",
   "mimetype": "text/x-python",
   "name": "python",
   "nbconvert_exporter": "python",
   "pygments_lexer": "ipython3",
   "version": "3.7.3"
  }
 },
 "nbformat": 4,
 "nbformat_minor": 4
}
